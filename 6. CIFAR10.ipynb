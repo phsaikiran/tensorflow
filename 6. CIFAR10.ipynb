{
  "nbformat": 4,
  "nbformat_minor": 0,
  "metadata": {
    "kernelspec": {
      "display_name": "Python 3",
      "language": "python",
      "name": "python3"
    },
    "language_info": {
      "codemirror_mode": {
        "name": "ipython",
        "version": 2
      },
      "file_extension": ".py",
      "mimetype": "text/x-python",
      "name": "python",
      "nbconvert_exporter": "python",
      "pygments_lexer": "ipython2",
      "version": "2.7.6"
    },
    "colab": {
      "name": "7. CIFAR10 Improved.ipynb",
      "provenance": [],
      "collapsed_sections": []
    },
    "accelerator": "GPU"
  },
  "cells": [
    {
      "cell_type": "code",
      "metadata": {
        "collapsed": true,
        "id": "vCIopWI6qHI0"
      },
      "source": [
        "import tensorflow as tf\n",
        "import numpy as np\n",
        "import matplotlib.pyplot as plt\n",
        "from tensorflow.keras.layers import Input, Conv2D, Dense, Flatten, Dropout, BatchNormalization, MaxPooling2D\n",
        "from tensorflow.keras.models import Model"
      ],
      "execution_count": 1,
      "outputs": []
    },
    {
      "cell_type": "code",
      "metadata": {
        "pycharm": {
          "name": "#%%\n"
        },
        "colab": {
          "base_uri": "https://localhost:8080/"
        },
        "id": "48wxjD0GqHI3",
        "outputId": "a6a41734-d7cd-474e-9f56-b099f6e0a398"
      },
      "source": [
        "cifar10 = tf.keras.datasets.cifar10\n",
        "\n",
        "(x_train, y_train), (x_test, y_test) = cifar10.load_data()\n",
        "x_train, x_test = x_train / 255.0, x_test / 255.0\n",
        "y_train, y_test = y_train.flatten(), y_test.flatten()\n",
        "x_train.shape"
      ],
      "execution_count": 2,
      "outputs": [
        {
          "output_type": "stream",
          "text": [
            "Downloading data from https://www.cs.toronto.edu/~kriz/cifar-10-python.tar.gz\n",
            "170500096/170498071 [==============================] - 11s 0us/step\n"
          ],
          "name": "stdout"
        },
        {
          "output_type": "execute_result",
          "data": {
            "text/plain": [
              "(50000, 32, 32, 3)"
            ]
          },
          "metadata": {
            "tags": []
          },
          "execution_count": 2
        }
      ]
    },
    {
      "cell_type": "code",
      "metadata": {
        "pycharm": {
          "name": "#%%\n"
        },
        "colab": {
          "base_uri": "https://localhost:8080/"
        },
        "id": "N4bKD5x_qHI6",
        "outputId": "a9d4f402-50d8-4f91-c0fe-d0939e8719aa"
      },
      "source": [
        "# number of classes\n",
        "# set contains only unique elements\n",
        "K = len(set(y_train))\n",
        "K"
      ],
      "execution_count": 3,
      "outputs": [
        {
          "output_type": "execute_result",
          "data": {
            "text/plain": [
              "10"
            ]
          },
          "metadata": {
            "tags": []
          },
          "execution_count": 3
        }
      ]
    },
    {
      "cell_type": "code",
      "metadata": {
        "pycharm": {
          "name": "#%%\n"
        },
        "id": "ANj8DAwZqHI6"
      },
      "source": [
        "# Build the model using the functional API\n",
        "i = Input(shape=x_train[0].shape)\n",
        "# x = Conv2D(32, (3, 3), strides=2, activation=\"relu\")(i)\n",
        "# x = Conv2D(64, (3, 3), strides=2, activation=\"relu\")(x)\n",
        "# x = Conv2D(128, (3, 3), strides=2, activation=\"relu\")(x)\n",
        "\n",
        "x = Conv2D(32, (3, 3), activation=\"relu\", padding=\"same\")(i)\n",
        "x = BatchNormalization()(x)\n",
        "x = Conv2D(32, (3, 3), activation=\"relu\", padding=\"same\")(x)\n",
        "x = BatchNormalization()(x)\n",
        "x = MaxPooling2D((2, 2))(x)\n",
        "\n",
        "x = Conv2D(64, (3, 3), activation=\"relu\", padding=\"same\")(x)\n",
        "x = BatchNormalization()(x)\n",
        "x = Conv2D(64, (3, 3), activation=\"relu\", padding=\"same\")(x)\n",
        "x = BatchNormalization()(x)\n",
        "x = MaxPooling2D((2, 2))(x)\n",
        "\n",
        "x = Conv2D(128, (3, 3), activation=\"relu\", padding=\"same\")(x)\n",
        "x = BatchNormalization()(x)\n",
        "x = Conv2D(128, (3, 3), activation=\"relu\", padding=\"same\")(x)\n",
        "x = BatchNormalization()(x)\n",
        "x = MaxPooling2D((2, 2))(x)\n",
        "\n",
        "x = Flatten()(x)\n",
        "x = Dropout(0.2)(x)\n",
        "x = Dense(1024, activation=\"relu\")(x)\n",
        "x = Dropout(0.2)(x)\n",
        "x = Dense(K, activation=\"softmax\")(x)\n",
        "\n",
        "model = Model(i, x)"
      ],
      "execution_count": 4,
      "outputs": []
    },
    {
      "cell_type": "code",
      "metadata": {
        "pycharm": {
          "name": "#%%\n",
          "is_executing": true
        },
        "id": "Q0X_mdiGqHI7"
      },
      "source": [
        "# Compile the model\n",
        "model.compile(optimizer=\"adam\",\n",
        "              loss=\"sparse_categorical_crossentropy\",\n",
        "              metrics=[\"accuracy\"])"
      ],
      "execution_count": 5,
      "outputs": []
    },
    {
      "cell_type": "code",
      "metadata": {
        "colab": {
          "base_uri": "https://localhost:8080/"
        },
        "id": "qa2I6ciU2J1p",
        "outputId": "1cc0804e-9f00-447c-d6a2-2f8b31fecd27"
      },
      "source": [
        "# Fit the model\r\n",
        "r = model.fit(x_train, y_train, validation_data=(x_test, y_test), epochs=50)"
      ],
      "execution_count": 6,
      "outputs": [
        {
          "output_type": "stream",
          "text": [
            "Epoch 1/50\n",
            "1563/1563 [==============================] - 23s 15ms/step - loss: 1.3166 - accuracy: 0.5451 - val_loss: 1.1581 - val_accuracy: 0.6089\n",
            "Epoch 2/50\n",
            "1563/1563 [==============================] - 23s 15ms/step - loss: 0.8483 - accuracy: 0.7047 - val_loss: 0.7912 - val_accuracy: 0.7281\n",
            "Epoch 3/50\n",
            "1563/1563 [==============================] - 23s 15ms/step - loss: 0.6887 - accuracy: 0.7624 - val_loss: 0.8976 - val_accuracy: 0.6989\n",
            "Epoch 4/50\n",
            "1563/1563 [==============================] - 23s 15ms/step - loss: 0.5778 - accuracy: 0.8028 - val_loss: 0.7431 - val_accuracy: 0.7501\n",
            "Epoch 5/50\n",
            "1563/1563 [==============================] - 23s 15ms/step - loss: 0.4899 - accuracy: 0.8317 - val_loss: 0.5803 - val_accuracy: 0.8057\n",
            "Epoch 6/50\n",
            "1563/1563 [==============================] - 23s 15ms/step - loss: 0.4147 - accuracy: 0.8566 - val_loss: 0.7369 - val_accuracy: 0.7751\n",
            "Epoch 7/50\n",
            "1563/1563 [==============================] - 23s 15ms/step - loss: 0.3524 - accuracy: 0.8776 - val_loss: 0.6169 - val_accuracy: 0.8068\n",
            "Epoch 8/50\n",
            "1563/1563 [==============================] - 23s 15ms/step - loss: 0.3022 - accuracy: 0.8955 - val_loss: 0.6723 - val_accuracy: 0.7919\n",
            "Epoch 9/50\n",
            "1563/1563 [==============================] - 23s 15ms/step - loss: 0.2569 - accuracy: 0.9113 - val_loss: 0.6612 - val_accuracy: 0.8115\n",
            "Epoch 10/50\n",
            "1563/1563 [==============================] - 23s 15ms/step - loss: 0.2235 - accuracy: 0.9237 - val_loss: 0.6898 - val_accuracy: 0.8097\n",
            "Epoch 11/50\n",
            "1563/1563 [==============================] - 23s 15ms/step - loss: 0.1876 - accuracy: 0.9350 - val_loss: 0.6675 - val_accuracy: 0.8288\n",
            "Epoch 12/50\n",
            "1563/1563 [==============================] - 23s 15ms/step - loss: 0.1754 - accuracy: 0.9405 - val_loss: 0.7084 - val_accuracy: 0.8101\n",
            "Epoch 13/50\n",
            "1563/1563 [==============================] - 23s 15ms/step - loss: 0.1516 - accuracy: 0.9489 - val_loss: 0.6682 - val_accuracy: 0.8204\n",
            "Epoch 14/50\n",
            "1563/1563 [==============================] - 23s 15ms/step - loss: 0.1449 - accuracy: 0.9520 - val_loss: 0.7802 - val_accuracy: 0.8145\n",
            "Epoch 15/50\n",
            "1563/1563 [==============================] - 23s 15ms/step - loss: 0.1267 - accuracy: 0.9581 - val_loss: 0.8675 - val_accuracy: 0.8069\n",
            "Epoch 16/50\n",
            "1563/1563 [==============================] - 23s 15ms/step - loss: 0.1304 - accuracy: 0.9566 - val_loss: 0.7111 - val_accuracy: 0.8345\n",
            "Epoch 17/50\n",
            "1563/1563 [==============================] - 23s 15ms/step - loss: 0.1100 - accuracy: 0.9634 - val_loss: 0.6819 - val_accuracy: 0.8329\n",
            "Epoch 18/50\n",
            "1563/1563 [==============================] - 23s 14ms/step - loss: 0.1104 - accuracy: 0.9630 - val_loss: 0.7149 - val_accuracy: 0.8384\n",
            "Epoch 19/50\n",
            "1563/1563 [==============================] - 23s 15ms/step - loss: 0.0985 - accuracy: 0.9668 - val_loss: 0.7582 - val_accuracy: 0.8381\n",
            "Epoch 20/50\n",
            "1563/1563 [==============================] - 23s 14ms/step - loss: 0.0940 - accuracy: 0.9685 - val_loss: 0.7092 - val_accuracy: 0.8383\n",
            "Epoch 21/50\n",
            "1563/1563 [==============================] - 23s 14ms/step - loss: 0.0931 - accuracy: 0.9693 - val_loss: 0.6834 - val_accuracy: 0.8370\n",
            "Epoch 22/50\n",
            "1563/1563 [==============================] - 23s 15ms/step - loss: 0.0823 - accuracy: 0.9724 - val_loss: 0.8078 - val_accuracy: 0.8447\n",
            "Epoch 23/50\n",
            "1563/1563 [==============================] - 23s 15ms/step - loss: 0.0754 - accuracy: 0.9754 - val_loss: 0.8185 - val_accuracy: 0.8374\n",
            "Epoch 24/50\n",
            "1563/1563 [==============================] - 23s 14ms/step - loss: 0.0809 - accuracy: 0.9736 - val_loss: 0.8228 - val_accuracy: 0.8246\n",
            "Epoch 25/50\n",
            "1563/1563 [==============================] - 23s 14ms/step - loss: 0.0724 - accuracy: 0.9760 - val_loss: 0.8290 - val_accuracy: 0.8347\n",
            "Epoch 26/50\n",
            "1563/1563 [==============================] - 23s 14ms/step - loss: 0.0766 - accuracy: 0.9756 - val_loss: 0.7314 - val_accuracy: 0.8445\n",
            "Epoch 27/50\n",
            "1563/1563 [==============================] - 23s 15ms/step - loss: 0.0685 - accuracy: 0.9773 - val_loss: 0.8120 - val_accuracy: 0.8402\n",
            "Epoch 28/50\n",
            "1563/1563 [==============================] - 23s 14ms/step - loss: 0.0672 - accuracy: 0.9787 - val_loss: 0.7690 - val_accuracy: 0.8352\n",
            "Epoch 29/50\n",
            "1563/1563 [==============================] - 23s 15ms/step - loss: 0.0613 - accuracy: 0.9796 - val_loss: 0.8614 - val_accuracy: 0.8349\n",
            "Epoch 30/50\n",
            "1563/1563 [==============================] - 23s 14ms/step - loss: 0.0619 - accuracy: 0.9800 - val_loss: 0.7613 - val_accuracy: 0.8388\n",
            "Epoch 31/50\n",
            "1563/1563 [==============================] - 23s 14ms/step - loss: 0.0591 - accuracy: 0.9807 - val_loss: 0.9149 - val_accuracy: 0.8260\n",
            "Epoch 32/50\n",
            "1563/1563 [==============================] - 23s 14ms/step - loss: 0.0624 - accuracy: 0.9801 - val_loss: 0.7278 - val_accuracy: 0.8415\n",
            "Epoch 33/50\n",
            "1563/1563 [==============================] - 23s 14ms/step - loss: 0.0588 - accuracy: 0.9810 - val_loss: 0.7525 - val_accuracy: 0.8420\n",
            "Epoch 34/50\n",
            "1563/1563 [==============================] - 23s 14ms/step - loss: 0.0583 - accuracy: 0.9812 - val_loss: 0.8281 - val_accuracy: 0.8355\n",
            "Epoch 35/50\n",
            "1563/1563 [==============================] - 23s 14ms/step - loss: 0.0504 - accuracy: 0.9831 - val_loss: 0.8333 - val_accuracy: 0.8408\n",
            "Epoch 36/50\n",
            "1563/1563 [==============================] - 23s 15ms/step - loss: 0.0520 - accuracy: 0.9831 - val_loss: 0.8139 - val_accuracy: 0.8421\n",
            "Epoch 37/50\n",
            "1563/1563 [==============================] - 23s 14ms/step - loss: 0.0529 - accuracy: 0.9836 - val_loss: 0.7769 - val_accuracy: 0.8322\n",
            "Epoch 38/50\n",
            "1563/1563 [==============================] - 23s 15ms/step - loss: 0.0527 - accuracy: 0.9827 - val_loss: 0.7522 - val_accuracy: 0.8491\n",
            "Epoch 39/50\n",
            "1563/1563 [==============================] - 23s 14ms/step - loss: 0.0492 - accuracy: 0.9847 - val_loss: 0.7982 - val_accuracy: 0.8359\n",
            "Epoch 40/50\n",
            "1563/1563 [==============================] - 23s 14ms/step - loss: 0.0478 - accuracy: 0.9845 - val_loss: 0.7923 - val_accuracy: 0.8440\n",
            "Epoch 41/50\n",
            "1563/1563 [==============================] - 23s 15ms/step - loss: 0.0490 - accuracy: 0.9844 - val_loss: 0.8774 - val_accuracy: 0.8400\n",
            "Epoch 42/50\n",
            "1563/1563 [==============================] - 23s 14ms/step - loss: 0.0456 - accuracy: 0.9845 - val_loss: 0.7997 - val_accuracy: 0.8358\n",
            "Epoch 43/50\n",
            "1563/1563 [==============================] - 23s 15ms/step - loss: 0.0468 - accuracy: 0.9844 - val_loss: 0.8276 - val_accuracy: 0.8402\n",
            "Epoch 44/50\n",
            "1563/1563 [==============================] - 23s 14ms/step - loss: 0.0470 - accuracy: 0.9850 - val_loss: 0.8300 - val_accuracy: 0.8393\n",
            "Epoch 45/50\n",
            "1563/1563 [==============================] - 23s 15ms/step - loss: 0.0403 - accuracy: 0.9871 - val_loss: 0.8811 - val_accuracy: 0.8411\n",
            "Epoch 46/50\n",
            "1563/1563 [==============================] - 23s 15ms/step - loss: 0.0441 - accuracy: 0.9860 - val_loss: 0.8260 - val_accuracy: 0.8373\n",
            "Epoch 47/50\n",
            "1563/1563 [==============================] - 23s 14ms/step - loss: 0.0427 - accuracy: 0.9870 - val_loss: 0.8634 - val_accuracy: 0.8404\n",
            "Epoch 48/50\n",
            "1563/1563 [==============================] - 23s 15ms/step - loss: 0.0417 - accuracy: 0.9863 - val_loss: 0.8061 - val_accuracy: 0.8452\n",
            "Epoch 49/50\n",
            "1563/1563 [==============================] - 23s 15ms/step - loss: 0.0403 - accuracy: 0.9871 - val_loss: 0.8052 - val_accuracy: 0.8413\n",
            "Epoch 50/50\n",
            "1563/1563 [==============================] - 23s 15ms/step - loss: 0.0406 - accuracy: 0.9874 - val_loss: 0.8877 - val_accuracy: 0.8473\n"
          ],
          "name": "stdout"
        }
      ]
    },
    {
      "cell_type": "code",
      "metadata": {
        "colab": {
          "base_uri": "https://localhost:8080/",
          "height": 282
        },
        "id": "mGd7egHqqu4u",
        "outputId": "0ebb9d02-8675-4945-dadf-1bc6623bbea1"
      },
      "source": [
        "# Loss per iteration\r\n",
        "import matplotlib.pyplot as plt\r\n",
        "plt.plot(r.history['loss'], label='loss')\r\n",
        "plt.plot(r.history['val_loss'], label='val_loss')\r\n",
        "plt.legend()"
      ],
      "execution_count": 7,
      "outputs": [
        {
          "output_type": "execute_result",
          "data": {
            "text/plain": [
              "<matplotlib.legend.Legend at 0x7fb5c00030f0>"
            ]
          },
          "metadata": {
            "tags": []
          },
          "execution_count": 7
        },
        {
          "output_type": "display_data",
          "data": {
            "image/png": "[encoded data removed]",
            "text/plain": [
              "<Figure size 432x288 with 1 Axes>"
            ]
          },
          "metadata": {
            "tags": [],
            "needs_background": "light"
          }
        }
      ]
    },
    {
      "cell_type": "code",
      "metadata": {
        "colab": {
          "base_uri": "https://localhost:8080/",
          "height": 282
        },
        "id": "9VqbtlSfrMI9",
        "outputId": "9dfbe513-b459-43ee-f063-dc67d40d704c"
      },
      "source": [
        "# Accuracy per iteration\r\n",
        "plt.plot(r.history['accuracy'], label='accuracy')\r\n",
        "plt.plot(r.history['val_accuracy'], label='val_accuracy')\r\n",
        "plt.legend()"
      ],
      "execution_count": 8,
      "outputs": [
        {
          "output_type": "execute_result",
          "data": {
            "text/plain": [
              "<matplotlib.legend.Legend at 0x7fb5c007c3c8>"
            ]
          },
          "metadata": {
            "tags": []
          },
          "execution_count": 8
        },
        {
          "output_type": "display_data",
          "data": {
            "image/png": "[encoded data removed]",
            "text/plain": [
              "<Figure size 432x288 with 1 Axes>"
            ]
          },
          "metadata": {
            "tags": [],
            "needs_background": "light"
          }
        }
      ]
    },
    {
      "cell_type": "code",
      "metadata": {
        "colab": {
          "base_uri": "https://localhost:8080/"
        },
        "id": "duHe0ru7rPZ9",
        "outputId": "6a693f7b-2ebf-4e17-9e67-9ec081ea490a"
      },
      "source": [
        "# Evaluate the model\r\n",
        "print(model.evaluate(x_test, y_test))"
      ],
      "execution_count": 9,
      "outputs": [
        {
          "output_type": "stream",
          "text": [
            "313/313 [==============================] - 2s 6ms/step - loss: 0.8877 - accuracy: 0.8473\n",
            "[0.887748122215271, 0.8472999930381775]\n"
          ],
          "name": "stdout"
        }
      ]
    },
    {
      "cell_type": "code",
      "metadata": {
        "colab": {
          "base_uri": "https://localhost:8080/",
          "height": 498
        },
        "id": "D_2ErnD-rc9d",
        "outputId": "33caa779-38ce-4514-ff5a-fdc06372706f"
      },
      "source": [
        "# Plot confusion matrix\r\n",
        "from sklearn.metrics import confusion_matrix\r\n",
        "import numpy as np\r\n",
        "import itertools\r\n",
        "\r\n",
        "def plot_confusion_matrix(cm, classes, normalize=False, title='Confusion Matrix', cmap=plt.cm.Blues):\r\n",
        "    if normalize:\r\n",
        "        cm = cm.astype('float') / cm.sum(axis=1)[:, np.newaxis]\r\n",
        "        print(\"Normalized confusion matrix\")\r\n",
        "    else:\r\n",
        "        print(\"Confusion matrix without normalization\")\r\n",
        "    print(cm)\r\n",
        "    \r\n",
        "    plt.imshow(cm, interpolation='nearest', cmap=cmap)\r\n",
        "    plt.title(title)\r\n",
        "    plt.colorbar()\r\n",
        "    tick_marks = np.arange(len(classes))\r\n",
        "    plt.xticks(tick_marks, classes)\r\n",
        "    plt.yticks(tick_marks, classes)\r\n",
        "    \r\n",
        "    fmt = '.2f' if normalize else 'd'\r\n",
        "    thresh = cm.max() / 2.\r\n",
        "    for i, j in itertools.product(range(cm.shape[0]), range(cm.shape[1])):\r\n",
        "        plt.text(j, i, format(cm[i, j], fmt), horizontalalignment=\"center\", color=\"white\" if cm[i, j] > thresh else \"black\")\r\n",
        "        \r\n",
        "    plt.tight_layout()\r\n",
        "    plt.ylabel(\"True label\")\r\n",
        "    plt.xlabel(\"Predicted label\")\r\n",
        "    plt.show()\r\n",
        "    \r\n",
        "p_test = model.predict(x_test).argmax(axis=1)\r\n",
        "cm = confusion_matrix(y_test, p_test)\r\n",
        "plot_confusion_matrix(cm, list(range(10)))"
      ],
      "execution_count": 10,
      "outputs": [
        {
          "output_type": "stream",
          "text": [
            "Confusion matrix without normalization\n",
            "[[882   9  23  11   9   7   6   9  33  11]\n",
            " [  6 949   3   1   2   2   1   1  11  24]\n",
            " [ 39   2 791  26  54  20  44  15   8   1]\n",
            " [ 15   4  61 679  53  85  57  25  14   7]\n",
            " [ 13   1  31  42 853   9  22  24   4   1]\n",
            " [  8   2  51 140  35 722  14  25   1   2]\n",
            " [  7   4  22  36  17   5 898   4   5   2]\n",
            " [  7   1  14  25  32  17   4 895   1   4]\n",
            " [ 46  12   7   4   2   2   5   0 914   8]\n",
            " [ 14  53   1   4   5   2   5  10  16 890]]\n"
          ],
          "name": "stdout"
        },
        {
          "output_type": "display_data",
          "data": {
            "image/png": "[encoded data removed]",
            "text/plain": [
              "<Figure size 432x288 with 2 Axes>"
            ]
          },
          "metadata": {
            "tags": [],
            "needs_background": "light"
          }
        }
      ]
    },
    {
      "cell_type": "code",
      "metadata": {
        "id": "71Gg0CnEsQc2"
      },
      "source": [
        "# Label mapping\r\n",
        "labels = [\"Airplane\", \"Automobile\", \"Bird\", \"Cat\", \"Deer\", \"Dog\", \"Frog\", \"Horse\", \"Ship\", \"Truck\"]"
      ],
      "execution_count": 11,
      "outputs": []
    },
    {
      "cell_type": "code",
      "metadata": {
        "colab": {
          "base_uri": "https://localhost:8080/",
          "height": 298
        },
        "id": "rd4wKq9UrfLl",
        "outputId": "c3ae9729-4865-4b77-abba-692c610a07cc"
      },
      "source": [
        "# Show some misclassified examples\r\n",
        "misclassified_idx = np.where(p_test != y_test)[0]\r\n",
        "i = np.random.choice(misclassified_idx)\r\n",
        "plt.imshow(x_test[i].reshape(32, 32, 3))\r\n",
        "plt.title(\"True label: %s Predicted: %s\" % (labels[y_test[i]], labels[p_test[i]]))"
      ],
      "execution_count": 12,
      "outputs": [
        {
          "output_type": "execute_result",
          "data": {
            "text/plain": [
              "Text(0.5, 1.0, 'True label: Bird Predicted: Dog')"
            ]
          },
          "metadata": {
            "tags": []
          },
          "execution_count": 12
        },
        {
          "output_type": "display_data",
          "data": {
            "image/png": "[encoded data removed]",
            "text/plain": [
              "<Figure size 432x288 with 1 Axes>"
            ]
          },
          "metadata": {
            "tags": [],
            "needs_background": "light"
          }
        }
      ]
    },
    {
      "cell_type": "code",
      "metadata": {
        "id": "mA3CxzGdv0om"
      },
      "source": [
        ""
      ],
      "execution_count": null,
      "outputs": []
    }
  ]
}