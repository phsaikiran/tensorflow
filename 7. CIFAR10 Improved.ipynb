{
  "nbformat": 4,
  "nbformat_minor": 0,
  "metadata": {
    "kernelspec": {
      "display_name": "Python 3",
      "language": "python",
      "name": "python3"
    },
    "language_info": {
      "codemirror_mode": {
        "name": "ipython",
        "version": 2
      },
      "file_extension": ".py",
      "mimetype": "text/x-python",
      "name": "python",
      "nbconvert_exporter": "python",
      "pygments_lexer": "ipython2",
      "version": "2.7.6"
    },
    "colab": {
      "name": "7. CIFAR10 Improved.ipynb",
      "provenance": [],
      "collapsed_sections": []
    },
    "accelerator": "GPU"
  },
  "cells": [
    {
      "cell_type": "code",
      "metadata": {
        "collapsed": true,
        "id": "vCIopWI6qHI0"
      },
      "source": [
        "import tensorflow as tf\n",
        "import numpy as np\n",
        "import matplotlib.pyplot as plt\n",
        "from tensorflow.keras.layers import Input, Conv2D, Dense, Flatten, Dropout, BatchNormalization, MaxPooling2D\n",
        "from tensorflow.keras.models import Model"
      ],
      "execution_count": 14,
      "outputs": []
    },
    {
      "cell_type": "code",
      "metadata": {
        "pycharm": {
          "name": "#%%\n"
        },
        "colab": {
          "base_uri": "https://localhost:8080/"
        },
        "id": "48wxjD0GqHI3",
        "outputId": "31956f6a-9110-4039-9b20-31f1df558575"
      },
      "source": [
        "cifar10 = tf.keras.datasets.cifar10\n",
        "\n",
        "(x_train, y_train), (x_test, y_test) = cifar10.load_data()\n",
        "x_train, x_test = x_train / 255.0, x_test / 255.0\n",
        "y_train, y_test = y_train.flatten(), y_test.flatten()\n",
        "x_train.shape"
      ],
      "execution_count": 15,
      "outputs": [
        {
          "output_type": "execute_result",
          "data": {
            "text/plain": [
              "(50000, 32, 32, 3)"
            ]
          },
          "metadata": {
            "tags": []
          },
          "execution_count": 15
        }
      ]
    },
    {
      "cell_type": "code",
      "metadata": {
        "colab": {
          "base_uri": "https://localhost:8080/"
        },
        "id": "fzCfjK9lAzMg",
        "outputId": "f2c810d9-fda0-4796-bc83-185e96fcbd8f"
      },
      "source": [
        "# number of classes\r\n",
        "# set contains only unique elements\r\n",
        "K = len(set(y_train))\r\n",
        "K"
      ],
      "execution_count": 16,
      "outputs": [
        {
          "output_type": "execute_result",
          "data": {
            "text/plain": [
              "10"
            ]
          },
          "metadata": {
            "tags": []
          },
          "execution_count": 16
        }
      ]
    },
    {
      "cell_type": "code",
      "metadata": {
        "pycharm": {
          "name": "#%%\n"
        },
        "id": "ANj8DAwZqHI6"
      },
      "source": [
        "# Build the model using the functional API\n",
        "i = Input(shape=x_train[0].shape)\n",
        "# x = Conv2D(32, (3, 3), strides=2, activation=\"relu\")(i)\n",
        "# x = Conv2D(64, (3, 3), strides=2, activation=\"relu\")(x)\n",
        "# x = Conv2D(128, (3, 3), strides=2, activation=\"relu\")(x)\n",
        "\n",
        "x = Conv2D(32, (3, 3), activation=\"relu\", padding=\"same\")(i)\n",
        "x = BatchNormalization()(x)\n",
        "x = Conv2D(32, (3, 3), activation=\"relu\", padding=\"same\")(x)\n",
        "x = BatchNormalization()(x)\n",
        "x = MaxPooling2D((2, 2))(x)\n",
        "\n",
        "x = Conv2D(64, (3, 3), activation=\"relu\", padding=\"same\")(x)\n",
        "x = BatchNormalization()(x)\n",
        "x = Conv2D(64, (3, 3), activation=\"relu\", padding=\"same\")(x)\n",
        "x = BatchNormalization()(x)\n",
        "x = MaxPooling2D((2, 2))(x)\n",
        "\n",
        "x = Conv2D(128, (3, 3), activation=\"relu\", padding=\"same\")(x)\n",
        "x = BatchNormalization()(x)\n",
        "x = Conv2D(128, (3, 3), activation=\"relu\", padding=\"same\")(x)\n",
        "x = BatchNormalization()(x)\n",
        "x = MaxPooling2D((2, 2))(x)\n",
        "\n",
        "x = Flatten()(x)\n",
        "x = Dropout(0.2)(x)\n",
        "x = Dense(1024, activation=\"relu\")(x)\n",
        "x = Dropout(0.2)(x)\n",
        "x = Dense(K, activation=\"softmax\")(x)\n",
        "\n",
        "model = Model(i, x)"
      ],
      "execution_count": 17,
      "outputs": []
    },
    {
      "cell_type": "code",
      "metadata": {
        "pycharm": {
          "name": "#%%\n",
          "is_executing": true
        },
        "id": "Q0X_mdiGqHI7"
      },
      "source": [
        "# Compile the model\n",
        "model.compile(optimizer=\"adam\",\n",
        "              loss=\"sparse_categorical_crossentropy\",\n",
        "              metrics=[\"accuracy\"])"
      ],
      "execution_count": 18,
      "outputs": []
    },
    {
      "cell_type": "markdown",
      "metadata": {
        "id": "2aGKBl26BA-v"
      },
      "source": [
        "## Data Augmentation"
      ]
    },
    {
      "cell_type": "code",
      "metadata": {
        "colab": {
          "base_uri": "https://localhost:8080/"
        },
        "id": "qa2I6ciU2J1p",
        "outputId": "3672237a-d015-48b7-8f48-96dadaea1067"
      },
      "source": [
        "# Fit the model\r\n",
        "# If we run this after running previos model.fit(), it will continue training where it left off\r\n",
        "batch_size = 32\r\n",
        "data_generator = tf.keras.preprocessing.image.ImageDataGenerator(width_shift_range=0.1, height_shift_range=0.1, horizontal_flip=True)\r\n",
        "train_generator = data_generator.flow(x_train, y_train, batch_size)\r\n",
        "steps_per_epoch = x_train.shape[0] // batch_size\r\n",
        "r = model.fit(train_generator, validation_data=(x_test, y_test), steps_per_epoch=steps_per_epoch, epochs=50)"
      ],
      "execution_count": 19,
      "outputs": [
        {
          "output_type": "stream",
          "text": [
            "Epoch 1/50\n",
            "1562/1562 [==============================] - 45s 29ms/step - loss: 1.4326 - accuracy: 0.5038 - val_loss: 1.0349 - val_accuracy: 0.6258\n",
            "Epoch 2/50\n",
            "1562/1562 [==============================] - 44s 28ms/step - loss: 0.9806 - accuracy: 0.6578 - val_loss: 0.8761 - val_accuracy: 0.7053\n",
            "Epoch 3/50\n",
            "1562/1562 [==============================] - 45s 29ms/step - loss: 0.8420 - accuracy: 0.7089 - val_loss: 0.8181 - val_accuracy: 0.7306\n",
            "Epoch 4/50\n",
            "1562/1562 [==============================] - 46s 30ms/step - loss: 0.7506 - accuracy: 0.7436 - val_loss: 0.7190 - val_accuracy: 0.7570\n",
            "Epoch 5/50\n",
            "1562/1562 [==============================] - 46s 29ms/step - loss: 0.6834 - accuracy: 0.7659 - val_loss: 0.7747 - val_accuracy: 0.7448\n",
            "Epoch 6/50\n",
            "1562/1562 [==============================] - 45s 29ms/step - loss: 0.6365 - accuracy: 0.7824 - val_loss: 0.6497 - val_accuracy: 0.7891\n",
            "Epoch 7/50\n",
            "1562/1562 [==============================] - 45s 29ms/step - loss: 0.5907 - accuracy: 0.7974 - val_loss: 0.5855 - val_accuracy: 0.8073\n",
            "Epoch 8/50\n",
            "1562/1562 [==============================] - 45s 29ms/step - loss: 0.5562 - accuracy: 0.8124 - val_loss: 0.6005 - val_accuracy: 0.8015\n",
            "Epoch 9/50\n",
            "1562/1562 [==============================] - 45s 29ms/step - loss: 0.5254 - accuracy: 0.8232 - val_loss: 0.5216 - val_accuracy: 0.8256\n",
            "Epoch 10/50\n",
            "1562/1562 [==============================] - 45s 29ms/step - loss: 0.4945 - accuracy: 0.8323 - val_loss: 0.5126 - val_accuracy: 0.8281\n",
            "Epoch 11/50\n",
            "1562/1562 [==============================] - 45s 29ms/step - loss: 0.4698 - accuracy: 0.8398 - val_loss: 0.4906 - val_accuracy: 0.8382\n",
            "Epoch 12/50\n",
            "1562/1562 [==============================] - 45s 29ms/step - loss: 0.4484 - accuracy: 0.8469 - val_loss: 0.4775 - val_accuracy: 0.8443\n",
            "Epoch 13/50\n",
            "1562/1562 [==============================] - 44s 28ms/step - loss: 0.4246 - accuracy: 0.8560 - val_loss: 0.4600 - val_accuracy: 0.8512\n",
            "Epoch 14/50\n",
            "1562/1562 [==============================] - 44s 28ms/step - loss: 0.4116 - accuracy: 0.8580 - val_loss: 0.4633 - val_accuracy: 0.8432\n",
            "Epoch 15/50\n",
            "1562/1562 [==============================] - 44s 28ms/step - loss: 0.3891 - accuracy: 0.8667 - val_loss: 0.4542 - val_accuracy: 0.8499\n",
            "Epoch 16/50\n",
            "1562/1562 [==============================] - 44s 28ms/step - loss: 0.3748 - accuracy: 0.8725 - val_loss: 0.4843 - val_accuracy: 0.8377\n",
            "Epoch 17/50\n",
            "1562/1562 [==============================] - 44s 28ms/step - loss: 0.3627 - accuracy: 0.8768 - val_loss: 0.4881 - val_accuracy: 0.8468\n",
            "Epoch 18/50\n",
            "1562/1562 [==============================] - 44s 28ms/step - loss: 0.3554 - accuracy: 0.8787 - val_loss: 0.4193 - val_accuracy: 0.8657\n",
            "Epoch 19/50\n",
            "1562/1562 [==============================] - 44s 28ms/step - loss: 0.3389 - accuracy: 0.8830 - val_loss: 0.3974 - val_accuracy: 0.8701\n",
            "Epoch 20/50\n",
            "1562/1562 [==============================] - 45s 29ms/step - loss: 0.3304 - accuracy: 0.8867 - val_loss: 0.4254 - val_accuracy: 0.8655\n",
            "Epoch 21/50\n",
            "1562/1562 [==============================] - 45s 29ms/step - loss: 0.3155 - accuracy: 0.8908 - val_loss: 0.4689 - val_accuracy: 0.8534\n",
            "Epoch 22/50\n",
            "1562/1562 [==============================] - 46s 29ms/step - loss: 0.3094 - accuracy: 0.8945 - val_loss: 0.4650 - val_accuracy: 0.8546\n",
            "Epoch 23/50\n",
            "1562/1562 [==============================] - 45s 29ms/step - loss: 0.3042 - accuracy: 0.8960 - val_loss: 0.4126 - val_accuracy: 0.8644\n",
            "Epoch 24/50\n",
            "1562/1562 [==============================] - 45s 29ms/step - loss: 0.2982 - accuracy: 0.8968 - val_loss: 0.4032 - val_accuracy: 0.8695\n",
            "Epoch 25/50\n",
            "1562/1562 [==============================] - 45s 29ms/step - loss: 0.2812 - accuracy: 0.9024 - val_loss: 0.4022 - val_accuracy: 0.8697\n",
            "Epoch 26/50\n",
            "1562/1562 [==============================] - 46s 29ms/step - loss: 0.2826 - accuracy: 0.9034 - val_loss: 0.3998 - val_accuracy: 0.8682\n",
            "Epoch 27/50\n",
            "1562/1562 [==============================] - 46s 29ms/step - loss: 0.2734 - accuracy: 0.9064 - val_loss: 0.4267 - val_accuracy: 0.8720\n",
            "Epoch 28/50\n",
            "1562/1562 [==============================] - 46s 30ms/step - loss: 0.2588 - accuracy: 0.9102 - val_loss: 0.4078 - val_accuracy: 0.8642\n",
            "Epoch 29/50\n",
            "1562/1562 [==============================] - 46s 30ms/step - loss: 0.2629 - accuracy: 0.9096 - val_loss: 0.4626 - val_accuracy: 0.8542\n",
            "Epoch 30/50\n",
            "1562/1562 [==============================] - 46s 29ms/step - loss: 0.2535 - accuracy: 0.9125 - val_loss: 0.4444 - val_accuracy: 0.8628\n",
            "Epoch 31/50\n",
            "1562/1562 [==============================] - 46s 29ms/step - loss: 0.2417 - accuracy: 0.9165 - val_loss: 0.3952 - val_accuracy: 0.8743\n",
            "Epoch 32/50\n",
            "1562/1562 [==============================] - 46s 29ms/step - loss: 0.2424 - accuracy: 0.9161 - val_loss: 0.4038 - val_accuracy: 0.8773\n",
            "Epoch 33/50\n",
            "1562/1562 [==============================] - 45s 29ms/step - loss: 0.2354 - accuracy: 0.9176 - val_loss: 0.4066 - val_accuracy: 0.8710\n",
            "Epoch 34/50\n",
            "1562/1562 [==============================] - 46s 29ms/step - loss: 0.2309 - accuracy: 0.9211 - val_loss: 0.4702 - val_accuracy: 0.8606\n",
            "Epoch 35/50\n",
            "1562/1562 [==============================] - 46s 30ms/step - loss: 0.2255 - accuracy: 0.9204 - val_loss: 0.4106 - val_accuracy: 0.8830\n",
            "Epoch 36/50\n",
            "1562/1562 [==============================] - 47s 30ms/step - loss: 0.2255 - accuracy: 0.9235 - val_loss: 0.4004 - val_accuracy: 0.8782\n",
            "Epoch 37/50\n",
            "1562/1562 [==============================] - 46s 30ms/step - loss: 0.2269 - accuracy: 0.9230 - val_loss: 0.3936 - val_accuracy: 0.8808\n",
            "Epoch 38/50\n",
            "1562/1562 [==============================] - 46s 29ms/step - loss: 0.2163 - accuracy: 0.9251 - val_loss: 0.4426 - val_accuracy: 0.8612\n",
            "Epoch 39/50\n",
            "1562/1562 [==============================] - 46s 29ms/step - loss: 0.2154 - accuracy: 0.9269 - val_loss: 0.3923 - val_accuracy: 0.8746\n",
            "Epoch 40/50\n",
            "1562/1562 [==============================] - 45s 29ms/step - loss: 0.2100 - accuracy: 0.9279 - val_loss: 0.3971 - val_accuracy: 0.8789\n",
            "Epoch 41/50\n",
            "1562/1562 [==============================] - 45s 29ms/step - loss: 0.2088 - accuracy: 0.9284 - val_loss: 0.3835 - val_accuracy: 0.8827\n",
            "Epoch 42/50\n",
            "1562/1562 [==============================] - 45s 29ms/step - loss: 0.2084 - accuracy: 0.9283 - val_loss: 0.4072 - val_accuracy: 0.8737\n",
            "Epoch 43/50\n",
            "1562/1562 [==============================] - 43s 28ms/step - loss: 0.2001 - accuracy: 0.9312 - val_loss: 0.4333 - val_accuracy: 0.8726\n",
            "Epoch 44/50\n",
            "1562/1562 [==============================] - 43s 28ms/step - loss: 0.1970 - accuracy: 0.9321 - val_loss: 0.4062 - val_accuracy: 0.8875\n",
            "Epoch 45/50\n",
            "1562/1562 [==============================] - 44s 28ms/step - loss: 0.1940 - accuracy: 0.9334 - val_loss: 0.4034 - val_accuracy: 0.8826\n",
            "Epoch 46/50\n",
            "1562/1562 [==============================] - 45s 29ms/step - loss: 0.1894 - accuracy: 0.9342 - val_loss: 0.4065 - val_accuracy: 0.8842\n",
            "Epoch 47/50\n",
            "1562/1562 [==============================] - 45s 29ms/step - loss: 0.1868 - accuracy: 0.9356 - val_loss: 0.4466 - val_accuracy: 0.8782\n",
            "Epoch 48/50\n",
            "1562/1562 [==============================] - 44s 28ms/step - loss: 0.1869 - accuracy: 0.9369 - val_loss: 0.4203 - val_accuracy: 0.8791\n",
            "Epoch 49/50\n",
            "1562/1562 [==============================] - 45s 29ms/step - loss: 0.1876 - accuracy: 0.9364 - val_loss: 0.4539 - val_accuracy: 0.8755\n",
            "Epoch 50/50\n",
            "1562/1562 [==============================] - 44s 28ms/step - loss: 0.1840 - accuracy: 0.9376 - val_loss: 0.4237 - val_accuracy: 0.8830\n"
          ],
          "name": "stdout"
        }
      ]
    },
    {
      "cell_type": "code",
      "metadata": {
        "colab": {
          "base_uri": "https://localhost:8080/",
          "height": 282
        },
        "id": "mGd7egHqqu4u",
        "outputId": "fc8dffe7-f25b-4e2b-c5c9-c070a47a3f75"
      },
      "source": [
        "# Loss per iteration\r\n",
        "import matplotlib.pyplot as plt\r\n",
        "plt.plot(r.history['loss'], label='loss')\r\n",
        "plt.plot(r.history['val_loss'], label='val_loss')\r\n",
        "plt.legend()"
      ],
      "execution_count": 20,
      "outputs": [
        {
          "output_type": "execute_result",
          "data": {
            "text/plain": [
              "<matplotlib.legend.Legend at 0x7fb56c7f8a58>"
            ]
          },
          "metadata": {
            "tags": []
          },
          "execution_count": 20
        },
        {
          "output_type": "display_data",
          "data": {
            "image/png": "[encoded data removed]",
            "text/plain": [
              "<Figure size 432x288 with 1 Axes>"
            ]
          },
          "metadata": {
            "tags": [],
            "needs_background": "light"
          }
        }
      ]
    },
    {
      "cell_type": "code",
      "metadata": {
        "colab": {
          "base_uri": "https://localhost:8080/",
          "height": 282
        },
        "id": "9VqbtlSfrMI9",
        "outputId": "11d7ac91-73e5-42d7-fa43-510f999528d5"
      },
      "source": [
        "# Accuracy per iteration\r\n",
        "plt.plot(r.history['accuracy'], label='accuracy')\r\n",
        "plt.plot(r.history['val_accuracy'], label='val_accuracy')\r\n",
        "plt.legend()"
      ],
      "execution_count": 21,
      "outputs": [
        {
          "output_type": "execute_result",
          "data": {
            "text/plain": [
              "<matplotlib.legend.Legend at 0x7fb56ebb48d0>"
            ]
          },
          "metadata": {
            "tags": []
          },
          "execution_count": 21
        },
        {
          "output_type": "display_data",
          "data": {
            "image/png": "[encoded data removed]",
            "text/plain": [
              "<Figure size 432x288 with 1 Axes>"
            ]
          },
          "metadata": {
            "tags": [],
            "needs_background": "light"
          }
        }
      ]
    },
    {
      "cell_type": "code",
      "metadata": {
        "colab": {
          "base_uri": "https://localhost:8080/"
        },
        "id": "duHe0ru7rPZ9",
        "outputId": "ebc92689-610a-437d-aa89-3f11d9980257"
      },
      "source": [
        "# Evaluate the model\r\n",
        "print(model.evaluate(x_test, y_test))"
      ],
      "execution_count": 22,
      "outputs": [
        {
          "output_type": "stream",
          "text": [
            "313/313 [==============================] - 2s 6ms/step - loss: 0.4237 - accuracy: 0.8830\n",
            "[0.42366737127304077, 0.8830000162124634]\n"
          ],
          "name": "stdout"
        }
      ]
    },
    {
      "cell_type": "code",
      "metadata": {
        "colab": {
          "base_uri": "https://localhost:8080/",
          "height": 498
        },
        "id": "D_2ErnD-rc9d",
        "outputId": "ca60bc85-130f-4fb5-e9b3-aeea4f1a2df2"
      },
      "source": [
        "# Plot confusion matrix\r\n",
        "from sklearn.metrics import confusion_matrix\r\n",
        "import numpy as np\r\n",
        "import itertools\r\n",
        "\r\n",
        "def plot_confusion_matrix(cm, classes, normalize=False, title='Confusion Matrix', cmap=plt.cm.Blues):\r\n",
        "    if normalize:\r\n",
        "        cm = cm.astype('float') / cm.sum(axis=1)[:, np.newaxis]\r\n",
        "        print(\"Normalized confusion matrix\")\r\n",
        "    else:\r\n",
        "        print(\"Confusion matrix without normalization\")\r\n",
        "    print(cm)\r\n",
        "    \r\n",
        "    plt.imshow(cm, interpolation='nearest', cmap=cmap)\r\n",
        "    plt.title(title)\r\n",
        "    plt.colorbar()\r\n",
        "    tick_marks = np.arange(len(classes))\r\n",
        "    plt.xticks(tick_marks, classes)\r\n",
        "    plt.yticks(tick_marks, classes)\r\n",
        "    \r\n",
        "    fmt = '.2f' if normalize else 'd'\r\n",
        "    thresh = cm.max() / 2.\r\n",
        "    for i, j in itertools.product(range(cm.shape[0]), range(cm.shape[1])):\r\n",
        "        plt.text(j, i, format(cm[i, j], fmt), horizontalalignment=\"center\", color=\"white\" if cm[i, j] > thresh else \"black\")\r\n",
        "        \r\n",
        "    plt.tight_layout()\r\n",
        "    plt.ylabel(\"True label\")\r\n",
        "    plt.xlabel(\"Predicted label\")\r\n",
        "    plt.show()\r\n",
        "    \r\n",
        "p_test = model.predict(x_test).argmax(axis=1)\r\n",
        "cm = confusion_matrix(y_test, p_test)\r\n",
        "plot_confusion_matrix(cm, list(range(10)))"
      ],
      "execution_count": 23,
      "outputs": [
        {
          "output_type": "stream",
          "text": [
            "Confusion matrix without normalization\n",
            "[[927   5  24   4   8   0   4   5  19   4]\n",
            " [  9 954   0   0   1   0   3   0   3  30]\n",
            " [ 35   3 864  10  42  19  20   3   2   2]\n",
            " [ 14   4  58 709  59  79  51  17   5   4]\n",
            " [  5   1  38  11 914   5  15  11   0   0]\n",
            " [  5   0  42  80  42 784  22  24   0   1]\n",
            " [  5   1  30   9   7   1 942   3   1   1]\n",
            " [  9   1  17  14  40  13   2 901   1   2]\n",
            " [ 39  14  11   2   4   1   1   0 922   6]\n",
            " [ 15  46   4   1   2   1   5   2  11 913]]\n"
          ],
          "name": "stdout"
        },
        {
          "output_type": "display_data",
          "data": {
            "image/png": "[encoded data removed]",
            "text/plain": [
              "<Figure size 432x288 with 2 Axes>"
            ]
          },
          "metadata": {
            "tags": [],
            "needs_background": "light"
          }
        }
      ]
    },
    {
      "cell_type": "code",
      "metadata": {
        "id": "71Gg0CnEsQc2"
      },
      "source": [
        "# Label mapping\r\n",
        "labels = [\"Airplane\", \"Automobile\", \"Bird\", \"Cat\", \"Deer\", \"Dog\", \"Frog\", \"Horse\", \"Ship\", \"Truck\"]"
      ],
      "execution_count": 24,
      "outputs": []
    },
    {
      "cell_type": "code",
      "metadata": {
        "colab": {
          "base_uri": "https://localhost:8080/",
          "height": 298
        },
        "id": "rd4wKq9UrfLl",
        "outputId": "34364c29-5df6-40ff-a98b-0de53d2e5371"
      },
      "source": [
        "# Show some misclassified examples\r\n",
        "misclassified_idx = np.where(p_test != y_test)[0]\r\n",
        "i = np.random.choice(misclassified_idx)\r\n",
        "plt.imshow(x_test[i].reshape(32, 32, 3))\r\n",
        "plt.title(\"True label: %s Predicted: %s\" % (labels[y_test[i]], labels[p_test[i]]))"
      ],
      "execution_count": 25,
      "outputs": [
        {
          "output_type": "execute_result",
          "data": {
            "text/plain": [
              "Text(0.5, 1.0, 'True label: Airplane Predicted: Cat')"
            ]
          },
          "metadata": {
            "tags": []
          },
          "execution_count": 25
        },
        {
          "output_type": "display_data",
          "data": {
            "image/png": "[encoded data removed]",
            "text/plain": [
              "<Figure size 432x288 with 1 Axes>"
            ]
          },
          "metadata": {
            "tags": [],
            "needs_background": "light"
          }
        }
      ]
    },
    {
      "cell_type": "code",
      "metadata": {
        "id": "mA3CxzGdv0om"
      },
      "source": [
        ""
      ],
      "execution_count": null,
      "outputs": []
    }
  ]
}