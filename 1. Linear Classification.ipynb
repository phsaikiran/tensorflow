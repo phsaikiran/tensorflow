{
 "cells": [
  {
   "cell_type": "markdown",
   "metadata": {},
   "source": [
    "# Linear Classification"
   ]
  },
  {
   "cell_type": "code",
   "execution_count": 1,
   "metadata": {},
   "outputs": [],
   "source": [
    "import tensorflow as tf\n",
    "from sklearn.datasets import load_breast_cancer"
   ]
  },
  {
   "cell_type": "code",
   "execution_count": 2,
   "metadata": {},
   "outputs": [],
   "source": [
    "data = load_breast_cancer()"
   ]
  },
  {
   "cell_type": "code",
   "execution_count": 3,
   "metadata": {},
   "outputs": [
    {
     "data": {
      "text/plain": [
       "sklearn.utils.Bunch"
      ]
     },
     "execution_count": 3,
     "metadata": {},
     "output_type": "execute_result"
    }
   ],
   "source": [
    "type(data)"
   ]
  },
  {
   "cell_type": "code",
   "execution_count": 4,
   "metadata": {},
   "outputs": [
    {
     "data": {
      "text/plain": [
       "dict_keys(['data', 'target', 'frame', 'target_names', 'DESCR', 'feature_names', 'filename'])"
      ]
     },
     "execution_count": 4,
     "metadata": {},
     "output_type": "execute_result"
    }
   ],
   "source": [
    "data.keys()"
   ]
  },
  {
   "cell_type": "code",
   "execution_count": 5,
   "metadata": {},
   "outputs": [
    {
     "data": {
      "text/plain": [
       "(569, 30)"
      ]
     },
     "execution_count": 5,
     "metadata": {},
     "output_type": "execute_result"
    }
   ],
   "source": [
    "data.data.shape"
   ]
  },
  {
   "cell_type": "code",
   "execution_count": 6,
   "metadata": {},
   "outputs": [
    {
     "data": {
      "text/plain": [
       "array([0, 0, 0, 0, 0, 0, 0, 0, 0, 0, 0, 0, 0, 0, 0, 0, 0, 0, 0, 1, 1, 1,\n",
       "       0, 0, 0, 0, 0, 0, 0, 0, 0, 0, 0, 0, 0, 0, 0, 1, 0, 0, 0, 0, 0, 0,\n",
       "       0, 0, 1, 0, 1, 1, 1, 1, 1, 0, 0, 1, 0, 0, 1, 1, 1, 1, 0, 1, 0, 0,\n",
       "       1, 1, 1, 1, 0, 1, 0, 0, 1, 0, 1, 0, 0, 1, 1, 1, 0, 0, 1, 0, 0, 0,\n",
       "       1, 1, 1, 0, 1, 1, 0, 0, 1, 1, 1, 0, 0, 1, 1, 1, 1, 0, 1, 1, 0, 1,\n",
       "       1, 1, 1, 1, 1, 1, 1, 0, 0, 0, 1, 0, 0, 1, 1, 1, 0, 0, 1, 0, 1, 0,\n",
       "       0, 1, 0, 0, 1, 1, 0, 1, 1, 0, 1, 1, 1, 1, 0, 1, 1, 1, 1, 1, 1, 1,\n",
       "       1, 1, 0, 1, 1, 1, 1, 0, 0, 1, 0, 1, 1, 0, 0, 1, 1, 0, 0, 1, 1, 1,\n",
       "       1, 0, 1, 1, 0, 0, 0, 1, 0, 1, 0, 1, 1, 1, 0, 1, 1, 0, 0, 1, 0, 0,\n",
       "       0, 0, 1, 0, 0, 0, 1, 0, 1, 0, 1, 1, 0, 1, 0, 0, 0, 0, 1, 1, 0, 0,\n",
       "       1, 1, 1, 0, 1, 1, 1, 1, 1, 0, 0, 1, 1, 0, 1, 1, 0, 0, 1, 0, 1, 1,\n",
       "       1, 1, 0, 1, 1, 1, 1, 1, 0, 1, 0, 0, 0, 0, 0, 0, 0, 0, 0, 0, 0, 0,\n",
       "       0, 0, 1, 1, 1, 1, 1, 1, 0, 1, 0, 1, 1, 0, 1, 1, 0, 1, 0, 0, 1, 1,\n",
       "       1, 1, 1, 1, 1, 1, 1, 1, 1, 1, 1, 0, 1, 1, 0, 1, 0, 1, 1, 1, 1, 1,\n",
       "       1, 1, 1, 1, 1, 1, 1, 1, 1, 0, 1, 1, 1, 0, 1, 0, 1, 1, 1, 1, 0, 0,\n",
       "       0, 1, 1, 1, 1, 0, 1, 0, 1, 0, 1, 1, 1, 0, 1, 1, 1, 1, 1, 1, 1, 0,\n",
       "       0, 0, 1, 1, 1, 1, 1, 1, 1, 1, 1, 1, 1, 0, 0, 1, 0, 0, 0, 1, 0, 0,\n",
       "       1, 1, 1, 1, 1, 0, 1, 1, 1, 1, 1, 0, 1, 1, 1, 0, 1, 1, 0, 0, 1, 1,\n",
       "       1, 1, 1, 1, 0, 1, 1, 1, 1, 1, 1, 1, 0, 1, 1, 1, 1, 1, 0, 1, 1, 0,\n",
       "       1, 1, 1, 1, 1, 1, 1, 1, 1, 1, 1, 1, 0, 1, 0, 0, 1, 0, 1, 1, 1, 1,\n",
       "       1, 0, 1, 1, 0, 1, 0, 1, 1, 0, 1, 0, 1, 1, 1, 1, 1, 1, 1, 1, 0, 0,\n",
       "       1, 1, 1, 1, 1, 1, 0, 1, 1, 1, 1, 1, 1, 1, 1, 1, 1, 0, 1, 1, 1, 1,\n",
       "       1, 1, 1, 0, 1, 0, 1, 1, 0, 1, 1, 1, 1, 1, 0, 0, 1, 0, 1, 0, 1, 1,\n",
       "       1, 1, 1, 0, 1, 1, 0, 1, 0, 1, 0, 0, 1, 1, 1, 0, 1, 1, 1, 1, 1, 1,\n",
       "       1, 1, 1, 1, 1, 0, 1, 0, 0, 1, 1, 1, 1, 1, 1, 1, 1, 1, 1, 1, 1, 1,\n",
       "       1, 1, 1, 1, 1, 1, 1, 1, 1, 1, 1, 1, 0, 0, 0, 0, 0, 0, 1])"
      ]
     },
     "execution_count": 6,
     "metadata": {},
     "output_type": "execute_result"
    }
   ],
   "source": [
    "data.target"
   ]
  },
  {
   "cell_type": "code",
   "execution_count": 7,
   "metadata": {},
   "outputs": [],
   "source": [
    "from sklearn.model_selection import train_test_split"
   ]
  },
  {
   "cell_type": "code",
   "execution_count": 8,
   "metadata": {},
   "outputs": [],
   "source": [
    "X_train, X_test, y_train, y_test = train_test_split(data.data, data.target, test_size=0.33)\n",
    "N, D = X_train.shape"
   ]
  },
  {
   "cell_type": "code",
   "execution_count": 9,
   "metadata": {},
   "outputs": [],
   "source": [
    "from sklearn.preprocessing import StandardScaler"
   ]
  },
  {
   "cell_type": "code",
   "execution_count": 10,
   "metadata": {},
   "outputs": [],
   "source": [
    "scaler = StandardScaler()\n",
    "X_train = scaler.fit_transform(X_train)\n",
    "X_test = scaler.transform(X_test)"
   ]
  },
  {
   "cell_type": "code",
   "execution_count": 11,
   "metadata": {},
   "outputs": [],
   "source": [
    "model = tf.keras.models.Sequential([\n",
    "                                    tf.keras.layers.Input(shape=(D,)),\n",
    "                                    tf.keras.layers.Dense(1, activation='sigmoid')\n",
    "])"
   ]
  },
  {
   "cell_type": "code",
   "execution_count": 12,
   "metadata": {},
   "outputs": [],
   "source": [
    "model.compile(optimizer='adam', loss='binary_crossentropy', metrics=['accuracy'])"
   ]
  },
  {
   "cell_type": "code",
   "execution_count": 13,
   "metadata": {},
   "outputs": [
    {
     "name": "stdout",
     "output_type": "stream",
     "text": [
      "Epoch 1/100\n",
      "12/12 [==============================] - 0s 33ms/step - loss: 1.4366 - accuracy: 0.2257 - val_loss: 1.4269 - val_accuracy: 0.2340\n",
      "Epoch 2/100\n",
      "12/12 [==============================] - 0s 8ms/step - loss: 1.3261 - accuracy: 0.2572 - val_loss: 1.3298 - val_accuracy: 0.2766\n",
      "Epoch 3/100\n",
      "12/12 [==============================] - 0s 6ms/step - loss: 1.2236 - accuracy: 0.3123 - val_loss: 1.2391 - val_accuracy: 0.2872\n",
      "Epoch 4/100\n",
      "12/12 [==============================] - 0s 5ms/step - loss: 1.1311 - accuracy: 0.3517 - val_loss: 1.1546 - val_accuracy: 0.3670\n",
      "Epoch 5/100\n",
      "12/12 [==============================] - 0s 5ms/step - loss: 1.0446 - accuracy: 0.4147 - val_loss: 1.0776 - val_accuracy: 0.4149\n",
      "Epoch 6/100\n",
      "12/12 [==============================] - 0s 5ms/step - loss: 0.9658 - accuracy: 0.4646 - val_loss: 1.0066 - val_accuracy: 0.4574\n",
      "Epoch 7/100\n",
      "12/12 [==============================] - 0s 5ms/step - loss: 0.8944 - accuracy: 0.4856 - val_loss: 0.9424 - val_accuracy: 0.5000\n",
      "Epoch 8/100\n",
      "12/12 [==============================] - 0s 5ms/step - loss: 0.8327 - accuracy: 0.5276 - val_loss: 0.8810 - val_accuracy: 0.5319\n",
      "Epoch 9/100\n",
      "12/12 [==============================] - 0s 7ms/step - loss: 0.7731 - accuracy: 0.5748 - val_loss: 0.8269 - val_accuracy: 0.5426\n",
      "Epoch 10/100\n",
      "12/12 [==============================] - 0s 8ms/step - loss: 0.7221 - accuracy: 0.6142 - val_loss: 0.7771 - val_accuracy: 0.5904\n",
      "Epoch 11/100\n",
      "12/12 [==============================] - 0s 6ms/step - loss: 0.6750 - accuracy: 0.6457 - val_loss: 0.7322 - val_accuracy: 0.6117\n",
      "Epoch 12/100\n",
      "12/12 [==============================] - 0s 6ms/step - loss: 0.6332 - accuracy: 0.6824 - val_loss: 0.6918 - val_accuracy: 0.6383\n",
      "Epoch 13/100\n",
      "12/12 [==============================] - 0s 6ms/step - loss: 0.5959 - accuracy: 0.7060 - val_loss: 0.6555 - val_accuracy: 0.6702\n",
      "Epoch 14/100\n",
      "12/12 [==============================] - 0s 6ms/step - loss: 0.5630 - accuracy: 0.7297 - val_loss: 0.6218 - val_accuracy: 0.6915\n",
      "Epoch 15/100\n",
      "12/12 [==============================] - 0s 6ms/step - loss: 0.5329 - accuracy: 0.7323 - val_loss: 0.5917 - val_accuracy: 0.7128\n",
      "Epoch 16/100\n",
      "12/12 [==============================] - ETA: 0s - loss: 0.6606 - accuracy: 0.56 - 0s 7ms/step - loss: 0.5061 - accuracy: 0.7454 - val_loss: 0.5641 - val_accuracy: 0.7447\n",
      "Epoch 17/100\n",
      "12/12 [==============================] - 0s 8ms/step - loss: 0.4812 - accuracy: 0.7690 - val_loss: 0.5394 - val_accuracy: 0.7553\n",
      "Epoch 18/100\n",
      "12/12 [==============================] - 0s 7ms/step - loss: 0.4592 - accuracy: 0.7795 - val_loss: 0.5164 - val_accuracy: 0.7872\n",
      "Epoch 19/100\n",
      "12/12 [==============================] - 0s 6ms/step - loss: 0.4395 - accuracy: 0.7900 - val_loss: 0.4947 - val_accuracy: 0.8032\n",
      "Epoch 20/100\n",
      "12/12 [==============================] - 0s 7ms/step - loss: 0.4205 - accuracy: 0.8005 - val_loss: 0.4753 - val_accuracy: 0.8138\n",
      "Epoch 21/100\n",
      "12/12 [==============================] - 0s 7ms/step - loss: 0.4031 - accuracy: 0.8241 - val_loss: 0.4581 - val_accuracy: 0.8245\n",
      "Epoch 22/100\n",
      "12/12 [==============================] - 0s 6ms/step - loss: 0.3879 - accuracy: 0.8425 - val_loss: 0.4417 - val_accuracy: 0.8404\n",
      "Epoch 23/100\n",
      "12/12 [==============================] - 0s 5ms/step - loss: 0.3736 - accuracy: 0.8451 - val_loss: 0.4263 - val_accuracy: 0.8511\n",
      "Epoch 24/100\n",
      "12/12 [==============================] - 0s 6ms/step - loss: 0.3603 - accuracy: 0.8504 - val_loss: 0.4120 - val_accuracy: 0.8511\n",
      "Epoch 25/100\n",
      "12/12 [==============================] - 0s 5ms/step - loss: 0.3477 - accuracy: 0.8556 - val_loss: 0.3990 - val_accuracy: 0.8670\n",
      "Epoch 26/100\n",
      "12/12 [==============================] - 0s 5ms/step - loss: 0.3362 - accuracy: 0.8635 - val_loss: 0.3869 - val_accuracy: 0.8777\n",
      "Epoch 27/100\n",
      "12/12 [==============================] - 0s 5ms/step - loss: 0.3258 - accuracy: 0.8740 - val_loss: 0.3753 - val_accuracy: 0.8777\n",
      "Epoch 28/100\n",
      "12/12 [==============================] - 0s 5ms/step - loss: 0.3156 - accuracy: 0.8819 - val_loss: 0.3645 - val_accuracy: 0.8883\n",
      "Epoch 29/100\n",
      "12/12 [==============================] - 0s 4ms/step - loss: 0.3064 - accuracy: 0.8950 - val_loss: 0.3541 - val_accuracy: 0.9043\n",
      "Epoch 30/100\n",
      "12/12 [==============================] - 0s 5ms/step - loss: 0.2976 - accuracy: 0.9029 - val_loss: 0.3449 - val_accuracy: 0.9096\n",
      "Epoch 31/100\n",
      "12/12 [==============================] - 0s 5ms/step - loss: 0.2894 - accuracy: 0.9055 - val_loss: 0.3359 - val_accuracy: 0.9149\n",
      "Epoch 32/100\n",
      "12/12 [==============================] - 0s 5ms/step - loss: 0.2819 - accuracy: 0.9108 - val_loss: 0.3272 - val_accuracy: 0.9149\n",
      "Epoch 33/100\n",
      "12/12 [==============================] - 0s 5ms/step - loss: 0.2745 - accuracy: 0.9108 - val_loss: 0.3192 - val_accuracy: 0.9202\n",
      "Epoch 34/100\n",
      "12/12 [==============================] - 0s 6ms/step - loss: 0.2677 - accuracy: 0.9134 - val_loss: 0.3114 - val_accuracy: 0.9255\n",
      "Epoch 35/100\n",
      "12/12 [==============================] - 0s 7ms/step - loss: 0.2612 - accuracy: 0.9213 - val_loss: 0.3044 - val_accuracy: 0.9255\n",
      "Epoch 36/100\n",
      "12/12 [==============================] - 0s 7ms/step - loss: 0.2551 - accuracy: 0.9213 - val_loss: 0.2977 - val_accuracy: 0.9255\n",
      "Epoch 37/100\n",
      "12/12 [==============================] - 0s 6ms/step - loss: 0.2494 - accuracy: 0.9291 - val_loss: 0.2912 - val_accuracy: 0.9255\n",
      "Epoch 38/100\n",
      "12/12 [==============================] - 0s 5ms/step - loss: 0.2439 - accuracy: 0.9370 - val_loss: 0.2848 - val_accuracy: 0.9255\n",
      "Epoch 39/100\n",
      "12/12 [==============================] - 0s 5ms/step - loss: 0.2386 - accuracy: 0.9370 - val_loss: 0.2790 - val_accuracy: 0.9255\n",
      "Epoch 40/100\n",
      "12/12 [==============================] - 0s 5ms/step - loss: 0.2337 - accuracy: 0.9396 - val_loss: 0.2734 - val_accuracy: 0.9255\n",
      "Epoch 41/100\n",
      "12/12 [==============================] - 0s 5ms/step - loss: 0.2291 - accuracy: 0.9423 - val_loss: 0.2678 - val_accuracy: 0.9255\n",
      "Epoch 42/100\n",
      "12/12 [==============================] - 0s 6ms/step - loss: 0.2246 - accuracy: 0.9449 - val_loss: 0.2625 - val_accuracy: 0.9309\n",
      "Epoch 43/100\n",
      "12/12 [==============================] - 0s 6ms/step - loss: 0.2203 - accuracy: 0.9449 - val_loss: 0.2578 - val_accuracy: 0.9309\n",
      "Epoch 44/100\n",
      "12/12 [==============================] - 0s 6ms/step - loss: 0.2162 - accuracy: 0.9449 - val_loss: 0.2532 - val_accuracy: 0.9309\n",
      "Epoch 45/100\n",
      "12/12 [==============================] - 0s 6ms/step - loss: 0.2123 - accuracy: 0.9449 - val_loss: 0.2486 - val_accuracy: 0.9309\n",
      "Epoch 46/100\n",
      "12/12 [==============================] - 0s 6ms/step - loss: 0.2086 - accuracy: 0.9449 - val_loss: 0.2441 - val_accuracy: 0.9309\n",
      "Epoch 47/100\n",
      "12/12 [==============================] - 0s 4ms/step - loss: 0.2051 - accuracy: 0.9449 - val_loss: 0.2399 - val_accuracy: 0.9309\n",
      "Epoch 48/100\n",
      "12/12 [==============================] - 0s 18ms/step - loss: 0.2016 - accuracy: 0.9449 - val_loss: 0.2360 - val_accuracy: 0.9309\n",
      "Epoch 49/100\n",
      "12/12 [==============================] - 0s 8ms/step - loss: 0.1982 - accuracy: 0.9449 - val_loss: 0.2322 - val_accuracy: 0.9362\n",
      "Epoch 50/100\n",
      "12/12 [==============================] - 0s 7ms/step - loss: 0.1952 - accuracy: 0.9449 - val_loss: 0.2288 - val_accuracy: 0.9362\n",
      "Epoch 51/100\n",
      "12/12 [==============================] - 0s 9ms/step - loss: 0.1921 - accuracy: 0.9475 - val_loss: 0.2253 - val_accuracy: 0.9415\n",
      "Epoch 52/100\n",
      "12/12 [==============================] - 0s 9ms/step - loss: 0.1893 - accuracy: 0.9475 - val_loss: 0.2215 - val_accuracy: 0.9415\n",
      "Epoch 53/100\n",
      "12/12 [==============================] - 0s 5ms/step - loss: 0.1864 - accuracy: 0.9475 - val_loss: 0.2182 - val_accuracy: 0.9415\n",
      "Epoch 54/100\n",
      "12/12 [==============================] - 0s 5ms/step - loss: 0.1838 - accuracy: 0.9475 - val_loss: 0.2148 - val_accuracy: 0.9415\n",
      "Epoch 55/100\n",
      "12/12 [==============================] - 0s 4ms/step - loss: 0.1811 - accuracy: 0.9501 - val_loss: 0.2119 - val_accuracy: 0.9415\n",
      "Epoch 56/100\n",
      "12/12 [==============================] - 0s 4ms/step - loss: 0.1786 - accuracy: 0.9501 - val_loss: 0.2090 - val_accuracy: 0.9415\n",
      "Epoch 57/100\n",
      "12/12 [==============================] - 0s 5ms/step - loss: 0.1763 - accuracy: 0.9501 - val_loss: 0.2059 - val_accuracy: 0.9468\n",
      "Epoch 58/100\n",
      "12/12 [==============================] - 0s 5ms/step - loss: 0.1740 - accuracy: 0.9528 - val_loss: 0.2033 - val_accuracy: 0.9468\n",
      "Epoch 59/100\n",
      "12/12 [==============================] - 0s 6ms/step - loss: 0.1717 - accuracy: 0.9528 - val_loss: 0.2004 - val_accuracy: 0.9468\n",
      "Epoch 60/100\n",
      "12/12 [==============================] - 0s 5ms/step - loss: 0.1695 - accuracy: 0.9528 - val_loss: 0.1981 - val_accuracy: 0.9468\n",
      "Epoch 61/100\n",
      "12/12 [==============================] - 0s 6ms/step - loss: 0.1674 - accuracy: 0.9528 - val_loss: 0.1957 - val_accuracy: 0.9521\n",
      "Epoch 62/100\n",
      "12/12 [==============================] - 0s 6ms/step - loss: 0.1655 - accuracy: 0.9528 - val_loss: 0.1929 - val_accuracy: 0.9521\n",
      "Epoch 63/100\n",
      "12/12 [==============================] - 0s 4ms/step - loss: 0.1634 - accuracy: 0.9580 - val_loss: 0.1907 - val_accuracy: 0.9521\n",
      "Epoch 64/100\n",
      "12/12 [==============================] - 0s 5ms/step - loss: 0.1615 - accuracy: 0.9580 - val_loss: 0.1886 - val_accuracy: 0.9521\n",
      "Epoch 65/100\n",
      "12/12 [==============================] - 0s 5ms/step - loss: 0.1597 - accuracy: 0.9580 - val_loss: 0.1862 - val_accuracy: 0.9521\n",
      "Epoch 66/100\n",
      "12/12 [==============================] - 0s 5ms/step - loss: 0.1579 - accuracy: 0.9580 - val_loss: 0.1840 - val_accuracy: 0.9521\n",
      "Epoch 67/100\n",
      "12/12 [==============================] - 0s 7ms/step - loss: 0.1562 - accuracy: 0.9580 - val_loss: 0.1818 - val_accuracy: 0.9521\n",
      "Epoch 68/100\n",
      "12/12 [==============================] - 0s 5ms/step - loss: 0.1545 - accuracy: 0.9580 - val_loss: 0.1799 - val_accuracy: 0.9521\n",
      "Epoch 69/100\n",
      "12/12 [==============================] - 0s 6ms/step - loss: 0.1529 - accuracy: 0.9580 - val_loss: 0.1780 - val_accuracy: 0.9521\n",
      "Epoch 70/100\n",
      "12/12 [==============================] - 0s 7ms/step - loss: 0.1513 - accuracy: 0.9580 - val_loss: 0.1761 - val_accuracy: 0.9574\n",
      "Epoch 71/100\n",
      "12/12 [==============================] - 0s 7ms/step - loss: 0.1498 - accuracy: 0.9580 - val_loss: 0.1743 - val_accuracy: 0.9574\n",
      "Epoch 72/100\n",
      "12/12 [==============================] - 0s 6ms/step - loss: 0.1483 - accuracy: 0.9580 - val_loss: 0.1728 - val_accuracy: 0.9574\n",
      "Epoch 73/100\n",
      "12/12 [==============================] - 0s 5ms/step - loss: 0.1469 - accuracy: 0.9580 - val_loss: 0.1706 - val_accuracy: 0.9574\n",
      "Epoch 74/100\n",
      "12/12 [==============================] - 0s 6ms/step - loss: 0.1454 - accuracy: 0.9580 - val_loss: 0.1690 - val_accuracy: 0.9574\n",
      "Epoch 75/100\n",
      "12/12 [==============================] - 0s 6ms/step - loss: 0.1441 - accuracy: 0.9580 - val_loss: 0.1674 - val_accuracy: 0.9574\n",
      "Epoch 76/100\n",
      "12/12 [==============================] - 0s 5ms/step - loss: 0.1427 - accuracy: 0.9580 - val_loss: 0.1659 - val_accuracy: 0.9574\n",
      "Epoch 77/100\n",
      "12/12 [==============================] - 0s 6ms/step - loss: 0.1415 - accuracy: 0.9580 - val_loss: 0.1640 - val_accuracy: 0.9574\n",
      "Epoch 78/100\n",
      "12/12 [==============================] - 0s 5ms/step - loss: 0.1402 - accuracy: 0.9606 - val_loss: 0.1625 - val_accuracy: 0.9574\n",
      "Epoch 79/100\n",
      "12/12 [==============================] - 0s 6ms/step - loss: 0.1390 - accuracy: 0.9606 - val_loss: 0.1610 - val_accuracy: 0.9574\n",
      "Epoch 80/100\n",
      "12/12 [==============================] - 0s 6ms/step - loss: 0.1378 - accuracy: 0.9606 - val_loss: 0.1596 - val_accuracy: 0.9574\n",
      "Epoch 81/100\n",
      "12/12 [==============================] - 0s 6ms/step - loss: 0.1366 - accuracy: 0.9606 - val_loss: 0.1582 - val_accuracy: 0.9574\n",
      "Epoch 82/100\n",
      "12/12 [==============================] - 0s 7ms/step - loss: 0.1355 - accuracy: 0.9606 - val_loss: 0.1569 - val_accuracy: 0.9574\n",
      "Epoch 83/100\n",
      "12/12 [==============================] - 0s 7ms/step - loss: 0.1343 - accuracy: 0.9606 - val_loss: 0.1554 - val_accuracy: 0.9574\n",
      "Epoch 84/100\n",
      "12/12 [==============================] - 0s 7ms/step - loss: 0.1333 - accuracy: 0.9606 - val_loss: 0.1539 - val_accuracy: 0.9574\n",
      "Epoch 85/100\n",
      "12/12 [==============================] - 0s 5ms/step - loss: 0.1322 - accuracy: 0.9606 - val_loss: 0.1526 - val_accuracy: 0.9574\n",
      "Epoch 86/100\n",
      "12/12 [==============================] - 0s 5ms/step - loss: 0.1312 - accuracy: 0.9606 - val_loss: 0.1514 - val_accuracy: 0.9574\n",
      "Epoch 87/100\n",
      "12/12 [==============================] - 0s 6ms/step - loss: 0.1302 - accuracy: 0.9606 - val_loss: 0.1503 - val_accuracy: 0.9574\n",
      "Epoch 88/100\n",
      "12/12 [==============================] - 0s 6ms/step - loss: 0.1292 - accuracy: 0.9606 - val_loss: 0.1491 - val_accuracy: 0.9574\n",
      "Epoch 89/100\n",
      "12/12 [==============================] - 0s 5ms/step - loss: 0.1282 - accuracy: 0.9606 - val_loss: 0.1478 - val_accuracy: 0.9574\n",
      "Epoch 90/100\n",
      "12/12 [==============================] - 0s 6ms/step - loss: 0.1273 - accuracy: 0.9633 - val_loss: 0.1466 - val_accuracy: 0.9574\n",
      "Epoch 91/100\n",
      "12/12 [==============================] - 0s 5ms/step - loss: 0.1264 - accuracy: 0.9633 - val_loss: 0.1455 - val_accuracy: 0.9574\n",
      "Epoch 92/100\n",
      "12/12 [==============================] - 0s 5ms/step - loss: 0.1255 - accuracy: 0.9633 - val_loss: 0.1445 - val_accuracy: 0.9574\n",
      "Epoch 93/100\n",
      "12/12 [==============================] - 0s 5ms/step - loss: 0.1246 - accuracy: 0.9633 - val_loss: 0.1433 - val_accuracy: 0.9574\n",
      "Epoch 94/100\n",
      "12/12 [==============================] - 0s 5ms/step - loss: 0.1238 - accuracy: 0.9633 - val_loss: 0.1427 - val_accuracy: 0.9574\n",
      "Epoch 95/100\n",
      "12/12 [==============================] - 0s 4ms/step - loss: 0.1229 - accuracy: 0.9633 - val_loss: 0.1414 - val_accuracy: 0.9574\n",
      "Epoch 96/100\n",
      "12/12 [==============================] - 0s 5ms/step - loss: 0.1221 - accuracy: 0.9633 - val_loss: 0.1402 - val_accuracy: 0.9574\n",
      "Epoch 97/100\n",
      "12/12 [==============================] - 0s 5ms/step - loss: 0.1213 - accuracy: 0.9633 - val_loss: 0.1392 - val_accuracy: 0.9574\n",
      "Epoch 98/100\n",
      "12/12 [==============================] - 0s 5ms/step - loss: 0.1205 - accuracy: 0.9659 - val_loss: 0.1383 - val_accuracy: 0.9574\n",
      "Epoch 99/100\n",
      "12/12 [==============================] - 0s 5ms/step - loss: 0.1197 - accuracy: 0.9659 - val_loss: 0.1374 - val_accuracy: 0.9574\n",
      "Epoch 100/100\n",
      "12/12 [==============================] - 0s 5ms/step - loss: 0.1190 - accuracy: 0.9659 - val_loss: 0.1365 - val_accuracy: 0.9574\n",
      "12/12 [==============================] - 0s 2ms/step - loss: 0.1185 - accuracy: 0.9659\n",
      "Trian score:  [0.1184929758310318, 0.9658792614936829]\n",
      "6/6 [==============================] - 0s 2ms/step - loss: 0.1365 - accuracy: 0.9574\n",
      "Test score:  [0.1365301012992859, 0.957446813583374]\n"
     ]
    }
   ],
   "source": [
    "r = model.fit(X_train, y_train, validation_data=(X_test, y_test), epochs=100)\n",
    "print(\"Trian score: \", model.evaluate(X_train, y_train))\n",
    "print(\"Test score: \", model.evaluate(X_test, y_test))"
   ]
  },
  {
   "cell_type": "code",
   "execution_count": 14,
   "metadata": {},
   "outputs": [
    {
     "data": {
      "text/plain": [
       "<matplotlib.legend.Legend at 0x174cf3e5910>"
      ]
     },
     "execution_count": 14,
     "metadata": {},
     "output_type": "execute_result"
    },
    {
     "data": {
      "image/png": "[encoded data removed]",
      "text/plain": [
       "<Figure size 432x288 with 1 Axes>"
      ]
     },
     "metadata": {
      "needs_background": "light"
     },
     "output_type": "display_data"
    }
   ],
   "source": [
    "import matplotlib.pyplot as plt\n",
    "plt.plot(r.history['loss'], label='loss')\n",
    "plt.plot(r.history['val_loss'], label='val_loss')\n",
    "plt.legend()"
   ]
  },
  {
   "cell_type": "code",
   "execution_count": 15,
   "metadata": {},
   "outputs": [
    {
     "data": {
      "text/plain": [
       "<matplotlib.legend.Legend at 0x174d0485910>"
      ]
     },
     "execution_count": 15,
     "metadata": {},
     "output_type": "execute_result"
    },
    {
     "data": {
      "image/png": "[encoded data removed]",
      "text/plain": [
       "<Figure size 432x288 with 1 Axes>"
      ]
     },
     "metadata": {
      "needs_background": "light"
     },
     "output_type": "display_data"
    }
   ],
   "source": [
    "plt.plot(r.history['accuracy'], label='loss')\n",
    "plt.plot(r.history['val_accuracy'], label='val_loss')\n",
    "plt.legend()"
   ]
  },
  {
   "cell_type": "markdown",
   "metadata": {},
   "source": [
    "# Making predictions"
   ]
  },
  {
   "cell_type": "code",
   "execution_count": 16,
   "metadata": {},
   "outputs": [
    {
     "name": "stdout",
     "output_type": "stream",
     "text": [
      "[[3.2945365e-01]\n",
      " [9.4554806e-01]\n",
      " [9.9666452e-01]\n",
      " [5.1022470e-03]\n",
      " [9.8060507e-01]\n",
      " [1.2731889e-01]\n",
      " [9.9816084e-01]\n",
      " [9.7805077e-01]\n",
      " [8.7327076e-05]\n",
      " [8.3515269e-01]\n",
      " [1.6403070e-01]\n",
      " [8.5724127e-01]\n",
      " [1.6669542e-02]\n",
      " [9.7946882e-01]\n",
      " [9.9540985e-01]\n",
      " [9.0829062e-01]\n",
      " [9.9307966e-01]\n",
      " [2.2486821e-01]\n",
      " [9.8104596e-01]\n",
      " [9.9892628e-01]\n",
      " [9.8954594e-01]\n",
      " [8.8406682e-01]\n",
      " [8.9358401e-01]\n",
      " [2.2034907e-01]\n",
      " [3.1710863e-03]\n",
      " [3.6653608e-02]\n",
      " [8.1130803e-02]\n",
      " [9.7531801e-01]\n",
      " [9.8174924e-01]\n",
      " [9.8852098e-01]\n",
      " [1.4397800e-03]\n",
      " [9.3117267e-02]\n",
      " [9.6217048e-01]\n",
      " [9.9652350e-01]\n",
      " [5.3451449e-01]\n",
      " [5.2855223e-02]\n",
      " [9.9979001e-01]\n",
      " [8.9929342e-01]\n",
      " [8.1331909e-02]\n",
      " [1.7125010e-03]\n",
      " [9.7900826e-01]\n",
      " [4.3552279e-02]\n",
      " [9.5978677e-01]\n",
      " [9.8768532e-01]\n",
      " [8.8067949e-01]\n",
      " [6.9584697e-02]\n",
      " [9.8830205e-01]\n",
      " [9.9000132e-01]\n",
      " [1.9846350e-02]\n",
      " [7.1308546e-05]\n",
      " [3.5184592e-02]\n",
      " [4.3995583e-01]\n",
      " [8.7064040e-01]\n",
      " [9.8076475e-01]\n",
      " [3.8433075e-04]\n",
      " [9.9220860e-01]\n",
      " [9.4718766e-01]\n",
      " [9.4304943e-01]\n",
      " [7.6518035e-01]\n",
      " [4.3733269e-02]\n",
      " [7.8302622e-03]\n",
      " [8.7736523e-01]\n",
      " [9.5180500e-01]\n",
      " [9.4565260e-01]\n",
      " [8.7452495e-01]\n",
      " [7.3090196e-04]\n",
      " [9.2285490e-01]\n",
      " [8.9893329e-01]\n",
      " [7.3421031e-02]\n",
      " [8.0205810e-01]\n",
      " [2.6780427e-02]\n",
      " [9.5006442e-01]\n",
      " [9.6265769e-01]\n",
      " [9.9557847e-01]\n",
      " [9.6518111e-01]\n",
      " [9.8589349e-01]\n",
      " [1.0118146e-04]\n",
      " [2.0464063e-03]\n",
      " [9.4879550e-01]\n",
      " [7.9513943e-01]\n",
      " [9.3758714e-01]\n",
      " [7.7216983e-01]\n",
      " [5.2635063e-05]\n",
      " [4.6450019e-01]\n",
      " [9.8134899e-01]\n",
      " [9.8662376e-01]\n",
      " [9.9835098e-01]\n",
      " [3.8540933e-01]\n",
      " [8.2567132e-01]\n",
      " [4.5747176e-01]\n",
      " [8.0227357e-01]\n",
      " [6.9508851e-01]\n",
      " [1.6581575e-07]\n",
      " [9.2146015e-01]\n",
      " [2.3565590e-03]\n",
      " [9.5668459e-01]\n",
      " [7.6396108e-01]\n",
      " [9.7644383e-01]\n",
      " [9.9504578e-01]\n",
      " [8.9964437e-01]\n",
      " [9.7963703e-01]\n",
      " [2.7375615e-01]\n",
      " [9.7367221e-01]\n",
      " [9.9538624e-01]\n",
      " [7.7560771e-01]\n",
      " [8.7039840e-01]\n",
      " [9.9589479e-01]\n",
      " [9.5293528e-01]\n",
      " [9.4857407e-01]\n",
      " [7.8418422e-01]\n",
      " [9.8068929e-01]\n",
      " [9.8592067e-01]\n",
      " [7.0674682e-01]\n",
      " [4.2623878e-03]\n",
      " [5.3865063e-01]\n",
      " [9.1180712e-02]\n",
      " [9.9694794e-01]\n",
      " [9.8775876e-01]\n",
      " [9.7498631e-01]\n",
      " [9.9945605e-01]\n",
      " [9.1001564e-01]\n",
      " [2.6430097e-01]\n",
      " [9.8158044e-01]\n",
      " [2.4162948e-02]\n",
      " [9.5365238e-01]\n",
      " [1.5150785e-02]\n",
      " [8.2535124e-01]\n",
      " [5.6927526e-01]\n",
      " [5.8194995e-04]\n",
      " [9.3617141e-03]\n",
      " [4.6921209e-01]\n",
      " [9.9157596e-01]\n",
      " [5.1059222e-01]\n",
      " [6.9486660e-01]\n",
      " [6.2874597e-01]\n",
      " [7.4393213e-02]\n",
      " [1.4115989e-02]\n",
      " [9.0706897e-01]\n",
      " [9.6825504e-01]\n",
      " [9.8021299e-01]\n",
      " [8.7356091e-01]\n",
      " [1.4197358e-01]\n",
      " [9.8318183e-01]\n",
      " [3.1368995e-01]\n",
      " [3.4436941e-02]\n",
      " [9.4033778e-03]\n",
      " [3.5665333e-02]\n",
      " [1.5558034e-02]\n",
      " [4.4941571e-01]\n",
      " [9.8231030e-01]\n",
      " [7.9855633e-01]\n",
      " [1.0044605e-02]\n",
      " [9.3461764e-01]\n",
      " [7.2468472e-01]\n",
      " [3.3851308e-01]\n",
      " [1.2608767e-02]\n",
      " [9.9219024e-01]\n",
      " [4.1214824e-03]\n",
      " [9.8333335e-01]\n",
      " [9.9925905e-01]\n",
      " [9.8715645e-01]\n",
      " [8.6130947e-01]\n",
      " [1.5411586e-02]\n",
      " [9.3120968e-01]\n",
      " [6.9984890e-05]\n",
      " [6.1157364e-01]\n",
      " [9.7142601e-01]\n",
      " [8.6772525e-01]\n",
      " [2.6498109e-02]\n",
      " [2.7271539e-02]\n",
      " [7.8004479e-02]\n",
      " [9.6945727e-01]\n",
      " [8.8551909e-01]\n",
      " [9.5451164e-01]\n",
      " [9.8710275e-01]\n",
      " [9.7633660e-01]\n",
      " [2.1843016e-03]\n",
      " [8.1009150e-02]\n",
      " [8.3519495e-01]\n",
      " [9.6727812e-01]\n",
      " [9.9386525e-01]\n",
      " [9.6303362e-01]\n",
      " [9.7259426e-01]\n",
      " [1.6638488e-02]\n",
      " [4.5123369e-02]\n",
      " [6.2422663e-02]\n",
      " [3.1445146e-02]\n",
      " [9.9652362e-01]]\n"
     ]
    }
   ],
   "source": [
    "P = model.predict(X_test)\n",
    "print(P)"
   ]
  },
  {
   "cell_type": "code",
   "execution_count": 17,
   "metadata": {},
   "outputs": [
    {
     "name": "stdout",
     "output_type": "stream",
     "text": [
      "[0. 1. 1. 0. 1. 0. 1. 1. 0. 1. 0. 1. 0. 1. 1. 1. 1. 0. 1. 1. 1. 1. 1. 0.\n",
      " 0. 0. 0. 1. 1. 1. 0. 0. 1. 1. 1. 0. 1. 1. 0. 0. 1. 0. 1. 1. 1. 0. 1. 1.\n",
      " 0. 0. 0. 0. 1. 1. 0. 1. 1. 1. 1. 0. 0. 1. 1. 1. 1. 0. 1. 1. 0. 1. 0. 1.\n",
      " 1. 1. 1. 1. 0. 0. 1. 1. 1. 1. 0. 0. 1. 1. 1. 0. 1. 0. 1. 1. 0. 1. 0. 1.\n",
      " 1. 1. 1. 1. 1. 0. 1. 1. 1. 1. 1. 1. 1. 1. 1. 1. 1. 0. 1. 0. 1. 1. 1. 1.\n",
      " 1. 0. 1. 0. 1. 0. 1. 1. 0. 0. 0. 1. 1. 1. 1. 0. 0. 1. 1. 1. 1. 0. 1. 0.\n",
      " 0. 0. 0. 0. 0. 1. 1. 0. 1. 1. 0. 0. 1. 0. 1. 1. 1. 1. 0. 1. 0. 1. 1. 1.\n",
      " 0. 0. 0. 1. 1. 1. 1. 1. 0. 0. 1. 1. 1. 1. 1. 0. 0. 0. 0. 1.]\n"
     ]
    }
   ],
   "source": [
    "import numpy as np\n",
    "P = np.round(P).flatten()\n",
    "print(P)"
   ]
  },
  {
   "cell_type": "code",
   "execution_count": 18,
   "metadata": {},
   "outputs": [
    {
     "name": "stdout",
     "output_type": "stream",
     "text": [
      "Manually calculated accuracy:  0.9574468085106383\n",
      "6/6 [==============================] - 0s 2ms/step - loss: 0.1365 - accuracy: 0.9574\n",
      "Evaluate output:  [0.1365301012992859, 0.957446813583374]\n"
     ]
    }
   ],
   "source": [
    "print(\"Manually calculated accuracy: \", np.mean(P == y_test))\n",
    "print(\"Evaluate output: \", model.evaluate(X_test, y_test))"
   ]
  },
  {
   "cell_type": "markdown",
   "metadata": {},
   "source": [
    "# Saving and loading a Model"
   ]
  },
  {
   "cell_type": "code",
   "execution_count": 19,
   "metadata": {},
   "outputs": [],
   "source": [
    "model.save('linear-classifier.h5')"
   ]
  },
  {
   "cell_type": "code",
   "execution_count": 20,
   "metadata": {},
   "outputs": [
    {
     "name": "stdout",
     "output_type": "stream",
     "text": [
      "total 188\n",
      "drwxr-xr-x 1 saiki 197609     0 Nov 20 07:31 .\n",
      "drwxr-xr-x 1 saiki 197609     0 Nov 20 05:38 ..\n",
      "drwxr-xr-x 1 saiki 197609     0 Nov 20 07:30 .ipynb_checkpoints\n",
      "-rw-r--r-- 1 saiki 197609 62593 Nov 20 07:31 1. Linear Classification.ipynb\n",
      "-rw-r--r-- 1 saiki 197609 85065 Nov 20 07:31 Regression.ipynb\n",
      "drwxr-xr-x 1 saiki 197609     0 Nov 20 07:12 env\n",
      "-rw-r--r-- 1 saiki 197609 18480 Nov 20 07:31 linear-classifier.h5\n",
      "-rw-r--r-- 1 saiki 197609  2302 Nov 20 07:31 moore.csv\n",
      "-rw-r--r-- 1 saiki 197609  1531 Nov 20 07:12 requirements.txt\n"
     ]
    }
   ],
   "source": [
    "!ls -al"
   ]
  },
  {
   "cell_type": "code",
   "execution_count": 21,
   "metadata": {},
   "outputs": [
    {
     "name": "stdout",
     "output_type": "stream",
     "text": [
      "[<tensorflow.python.keras.layers.core.Dense object at 0x00000174D05700D0>]\n",
      "6/6 [==============================] - 0s 1ms/step - loss: 0.1365 - accuracy: 0.9574\n"
     ]
    },
    {
     "data": {
      "text/plain": [
       "[0.1365301012992859, 0.957446813583374]"
      ]
     },
     "execution_count": 21,
     "metadata": {},
     "output_type": "execute_result"
    }
   ],
   "source": [
    "model = tf.keras.models.load_model('linear-classifier.h5')\n",
    "print(model.layers)\n",
    "model.evaluate(X_test, y_test)"
   ]
  },
  {
   "cell_type": "code",
   "execution_count": null,
   "metadata": {},
   "outputs": [],
   "source": []
  }
 ],
 "metadata": {
  "kernelspec": {
   "display_name": "Python 3",
   "language": "python",
   "name": "python3"
  },
  "language_info": {
   "codemirror_mode": {
    "name": "ipython",
    "version": 3
   },
   "file_extension": ".py",
   "mimetype": "text/x-python",
   "name": "python",
   "nbconvert_exporter": "python",
   "pygments_lexer": "ipython3",
   "version": "3.8.6"
  }
 },
 "nbformat": 4,
 "nbformat_minor": 4
}
